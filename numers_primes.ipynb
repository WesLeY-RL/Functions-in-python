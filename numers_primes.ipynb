{
 "cells": [
  {
   "cell_type": "code",
   "execution_count": 1,
   "id": "94fe452f-74f5-4538-a085-86584cda30c7",
   "metadata": {},
   "outputs": [],
   "source": [
    "# função para saber se o número é primo\n",
    "def is_prime(num):\n",
    "    if num <= 1:\n",
    "        return False\n",
    "    elif num <= 3:\n",
    "        return True\n",
    "    elif num % 2 == 0 or num % 3 == 0:\n",
    "        return False\n",
    "    i = 5\n",
    "    while i * i <= num:\n",
    "        if num % i == 0 or num % (i + 2) == 0:\n",
    "            return False\n",
    "        i += 6\n",
    "    return True"
   ]
  },
  {
   "cell_type": "code",
   "execution_count": 8,
   "id": "fa88b783-ce60-4232-bec3-d7f9efb844a8",
   "metadata": {},
   "outputs": [],
   "source": [
    "# função que usa outra função para armazenar os números primos\n",
    "def find_primes(start, end):\n",
    "    prime_numbers = []\n",
    "    for num in range(start, end + 1):\n",
    "        if is_prime(num):\n",
    "            prime_numbers.append(num)\n",
    "    print(len(prime_numbers))     \n",
    "    return (prime_numbers)\n"
   ]
  },
  {
   "cell_type": "code",
   "execution_count": 11,
   "id": "b67348d5-8bc3-4c26-b792-d75fcb415034",
   "metadata": {},
   "outputs": [
    {
     "name": "stdin",
     "output_type": "stream",
     "text": [
      "Digite o número inicial do intervalo:  0\n",
      "Digite o número final do intervalo:  35\n"
     ]
    },
    {
     "name": "stdout",
     "output_type": "stream",
     "text": [
      "11\n",
      "Números primos no intervalo de 0 a 35 : [2, 3, 5, 7, 11, 13, 17, 19, 23, 29, 31] \n",
      " A quantidade de números primos nesse intervalo é:  11\n"
     ]
    }
   ],
   "source": [
    "start_num = int(input(\"Digite o número inicial do intervalo: \"))\n",
    "end_num = int(input('Digite o número final do intervalo: '))\n",
    "numbers_primes = find_primes(start_num, end_num)\n",
    "\n",
    "\n",
    "print(\"Números primos no intervalo de\", start_num, \"a\", end_num, \":\", numbers_primes,\"\\n\", \"A quantidade de números primos nesse intervalo é: \", len(numbers_primes))\n"
   ]
  },
  {
   "cell_type": "code",
   "execution_count": null,
   "id": "7c2f80f9-3f1d-4942-8d24-f08d6196c0d6",
   "metadata": {},
   "outputs": [],
   "source": []
  }
 ],
 "metadata": {
  "kernelspec": {
   "display_name": "Python 3 (ipykernel)",
   "language": "python",
   "name": "python3"
  },
  "language_info": {
   "codemirror_mode": {
    "name": "ipython",
    "version": 3
   },
   "file_extension": ".py",
   "mimetype": "text/x-python",
   "name": "python",
   "nbconvert_exporter": "python",
   "pygments_lexer": "ipython3",
   "version": "3.8.3"
  }
 },
 "nbformat": 4,
 "nbformat_minor": 5
}
