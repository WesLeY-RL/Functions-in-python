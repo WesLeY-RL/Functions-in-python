{
  "nbformat": 4,
  "nbformat_minor": 0,
  "metadata": {
    "colab": {
      "provenance": []
    },
    "kernelspec": {
      "name": "python3",
      "display_name": "Python 3"
    },
    "language_info": {
      "name": "python"
    }
  },
  "cells": [
    {
      "cell_type": "code",
      "execution_count": 1,
      "metadata": {
        "id": "osvj36vAKmsw"
      },
      "outputs": [],
      "source": [
        "import re\n"
      ]
    },
    {
      "cell_type": "code",
      "source": [
        "def validar_numero(numero):\n",
        "  padrao = re.compile(r\"\\(\\d{2}\\) 9\\d{4}-\\d{4}\")\n",
        "  if padrao.match(numero):\n",
        "    return \"Número de telefone válido.\"\n",
        "  else:\n",
        "    return \"Número de telefone inválido.\""
      ],
      "metadata": {
        "id": "F5Rqa8GkKtLJ"
      },
      "execution_count": 5,
      "outputs": []
    },
    {
      "cell_type": "code",
      "source": [
        "phone_number = input()\n",
        "\n",
        "\n",
        "print(validar_numero(phone_number))"
      ],
      "metadata": {
        "colab": {
          "base_uri": "https://localhost:8080/"
        },
        "id": "Af8bwZkhMw5C",
        "outputId": "de6b897a-ec14-434f-f30e-b3dacf41a08b"
      },
      "execution_count": 4,
      "outputs": [
        {
          "output_type": "stream",
          "name": "stdout",
          "text": [
            "98 998774761\n",
            "Número de telefone inválido.\n"
          ]
        }
      ]
    }
  ]
}