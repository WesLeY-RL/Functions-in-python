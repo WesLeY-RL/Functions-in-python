{
 "cells": [
  {
   "cell_type": "code",
   "execution_count": 9,
   "id": "5ccdeb87-764c-4543-ba27-bec58343510b",
   "metadata": {},
   "outputs": [],
   "source": [
    "import numpy as np \n",
    "import pandas as pd "
   ]
  },
  {
   "cell_type": "code",
   "execution_count": 3,
   "id": "208ba415-235a-49aa-8536-74298e1bafbb",
   "metadata": {},
   "outputs": [],
   "source": [
    "# Método de achar raízes "
   ]
  },
  {
   "cell_type": "code",
   "execution_count": 25,
   "id": "3cab3ef6-4745-47bc-a41a-fb2423f5f39e",
   "metadata": {},
   "outputs": [],
   "source": [
    "def find_roots(fx, df, x0, ea = 0.0000001, iter = 10000000000000):\n",
    "    erro_relativo = []\n",
    "    XXi = []\n",
    "    Xi_new = []\n",
    "    i = 0\n",
    "    x = xi\n",
    "    d = df\n",
    "    f = fx\n",
    "    logico = True\n",
    "    while logico == True:\n",
    "        fx = f(x)\n",
    "        df = d(x)\n",
    "        if df == 0:\n",
    "            raise ValueError(f\"A derivada é zero em x = {x}. O método pode não convergir.\")\n",
    "        xnew = x - (fx/df)\n",
    "        erro_relativo.append((abs(xnew - x) / xnew) * 100)\n",
    "        Xi_new.append(xnew)\n",
    "        XXi.append(x)\n",
    "        if (abs(xnew - x) / xnew) <= ea:\n",
    "            df = {\n",
    "            \"Xi\": XXi,   \n",
    "            \"Xi + 1\": Xi_new ,\n",
    "            \"Erro relativo (%)\": erro_relativo\n",
    "                }\n",
    "            df = pd.DataFrame(df)\n",
    "            return df\n",
    "        if i == iter:\n",
    "            logico == False \n",
    "            print(\"Error: o número de iterações foram atingidas.\")\n",
    "        x = xnew\n",
    "        i  = i + 1 \n",
    "    raise ValueError(\"O método não convergiu após o número máximo de iterações.\")\n",
    "        "
   ]
  },
  {
   "cell_type": "code",
   "execution_count": 16,
   "id": "53b3cb15-06a2-4a18-8bbc-12683378dda2",
   "metadata": {},
   "outputs": [],
   "source": [
    "# biblioteca de derivadas para cálculo \n",
    "from sympy import diff, Symbol\n",
    "from sympy import sin, cos, exp\n"
   ]
  },
  {
   "cell_type": "code",
   "execution_count": 17,
   "id": "65a921a2-80a4-4cdc-be35-35079d86a8fa",
   "metadata": {},
   "outputs": [
    {
     "data": {
      "text/latex": [
       "$\\displaystyle 3 x^{2}$"
      ],
      "text/plain": [
       "3*x**2"
      ]
     },
     "execution_count": 17,
     "metadata": {},
     "output_type": "execute_result"
    }
   ],
   "source": [
    "x = Symbol('x')\n",
    "f = x**3\n",
    "diff(f, x)"
   ]
  },
  {
   "cell_type": "code",
   "execution_count": 31,
   "id": "6f3df924-ef58-41b2-b9e5-82048048a07c",
   "metadata": {},
   "outputs": [
    {
     "data": {
      "text/latex": [
       "$\\displaystyle x^{2} \\cos{\\left(x \\right)} + 2 x \\sin{\\left(x \\right)}$"
      ],
      "text/plain": [
       "x**2*cos(x) + 2*x*sin(x)"
      ]
     },
     "execution_count": 31,
     "metadata": {},
     "output_type": "execute_result"
    }
   ],
   "source": [
    "diff(x**2 * sin(x), x)"
   ]
  },
  {
   "cell_type": "code",
   "execution_count": 32,
   "id": "51c3fe09-c8da-41b2-8021-d9ed139d9914",
   "metadata": {},
   "outputs": [
    {
     "data": {
      "text/latex": [
       "$\\displaystyle 2 x + 8$"
      ],
      "text/plain": [
       "2*x + 8"
      ]
     },
     "execution_count": 32,
     "metadata": {},
     "output_type": "execute_result"
    }
   ],
   "source": [
    "diff(x**2+8*x,x)"
   ]
  },
  {
   "cell_type": "code",
   "execution_count": 33,
   "id": "b0916fc8-14dc-403b-9348-d7691c8bfb8f",
   "metadata": {},
   "outputs": [],
   "source": [
    "#Testando a função newtonRaphson\n",
    "def f(x):\n",
    "    return np.exp(-x) - x\n",
    "def df(x):\n",
    "    return -np.exp(-x) - 1\n",
    "xi = 0"
   ]
  },
  {
   "cell_type": "code",
   "execution_count": 34,
   "id": "c47329ea-a405-44b6-8725-8b8a4332672c",
   "metadata": {},
   "outputs": [
    {
     "data": {
      "text/html": [
       "<div>\n",
       "<style scoped>\n",
       "    .dataframe tbody tr th:only-of-type {\n",
       "        vertical-align: middle;\n",
       "    }\n",
       "\n",
       "    .dataframe tbody tr th {\n",
       "        vertical-align: top;\n",
       "    }\n",
       "\n",
       "    .dataframe thead th {\n",
       "        text-align: right;\n",
       "    }\n",
       "</style>\n",
       "<table border=\"1\" class=\"dataframe\">\n",
       "  <thead>\n",
       "    <tr style=\"text-align: right;\">\n",
       "      <th></th>\n",
       "      <th>Xi</th>\n",
       "      <th>Xi + 1</th>\n",
       "      <th>Erro relativo (%)</th>\n",
       "    </tr>\n",
       "  </thead>\n",
       "  <tbody>\n",
       "    <tr>\n",
       "      <th>0</th>\n",
       "      <td>0.000000</td>\n",
       "      <td>0.500000</td>\n",
       "      <td>1.000000e+02</td>\n",
       "    </tr>\n",
       "    <tr>\n",
       "      <th>1</th>\n",
       "      <td>0.500000</td>\n",
       "      <td>0.566311</td>\n",
       "      <td>1.170929e+01</td>\n",
       "    </tr>\n",
       "    <tr>\n",
       "      <th>2</th>\n",
       "      <td>0.566311</td>\n",
       "      <td>0.567143</td>\n",
       "      <td>1.467287e-01</td>\n",
       "    </tr>\n",
       "    <tr>\n",
       "      <th>3</th>\n",
       "      <td>0.567143</td>\n",
       "      <td>0.567143</td>\n",
       "      <td>2.210639e-05</td>\n",
       "    </tr>\n",
       "    <tr>\n",
       "      <th>4</th>\n",
       "      <td>0.567143</td>\n",
       "      <td>0.567143</td>\n",
       "      <td>5.089684e-13</td>\n",
       "    </tr>\n",
       "  </tbody>\n",
       "</table>\n",
       "</div>"
      ],
      "text/plain": [
       "         Xi    Xi + 1  Erro relativo (%)\n",
       "0  0.000000  0.500000       1.000000e+02\n",
       "1  0.500000  0.566311       1.170929e+01\n",
       "2  0.566311  0.567143       1.467287e-01\n",
       "3  0.567143  0.567143       2.210639e-05\n",
       "4  0.567143  0.567143       5.089684e-13"
      ]
     },
     "execution_count": 34,
     "metadata": {},
     "output_type": "execute_result"
    }
   ],
   "source": [
    "find_roots(f, df, xi)"
   ]
  },
  {
   "cell_type": "code",
   "execution_count": null,
   "id": "f63b7a3d-dbb0-4545-a661-80d3630dd7f7",
   "metadata": {},
   "outputs": [],
   "source": []
  },
  {
   "cell_type": "code",
   "execution_count": null,
   "id": "b46a3d11-9465-4c43-b1fc-3fb2fa07820c",
   "metadata": {},
   "outputs": [],
   "source": []
  }
 ],
 "metadata": {
  "kernelspec": {
   "display_name": "Python 3 (ipykernel)",
   "language": "python",
   "name": "python3"
  },
  "language_info": {
   "codemirror_mode": {
    "name": "ipython",
    "version": 3
   },
   "file_extension": ".py",
   "mimetype": "text/x-python",
   "name": "python",
   "nbconvert_exporter": "python",
   "pygments_lexer": "ipython3",
   "version": "3.8.3"
  }
 },
 "nbformat": 4,
 "nbformat_minor": 5
}
