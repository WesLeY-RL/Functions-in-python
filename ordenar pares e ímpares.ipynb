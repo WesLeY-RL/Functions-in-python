{
 "cells": [
  {
   "cell_type": "code",
   "execution_count": 1,
   "id": "714090b5-b529-44b8-9553-98e46095b023",
   "metadata": {},
   "outputs": [
    {
     "name": "stdout",
     "output_type": "stream",
     "text": [
      "[27, 3, 23, 16, 25, 43, 49, 6, 20, 44, 46, 1, 33, 15, 27, 24, 2, 40, 14, 16, 25, 15, 22, 37, 5, 3, 15, 2, 13, 16, 50, 6, 18, 2, 44, 48, 16, 3, 7, 27, 26, 31, 4, 15, 41, 8, 36, 13, 35, 13, 35, 9, 47, 38, 23, 38, 11, 19, 13, 5, 1, 8, 27, 10, 19, 1, 49, 27, 37, 3, 37, 24, 39, 38, 6, 41, 40, 34, 23, 12, 24, 41, 21, 40, 43, 36, 10, 46, 48, 11, 28, 26, 28, 23, 49, 49, 25, 36, 39, 49]\n"
     ]
    }
   ],
   "source": [
    "vetor = []\n",
    "import random\n",
    "\n",
    "for i in range(0,100):\n",
    "  temp = random.randint(1,50)\n",
    "  vetor.append(temp)\n",
    "print(vetor)\n",
    "vetor_set = vetor"
   ]
  },
  {
   "cell_type": "code",
   "execution_count": 2,
   "id": "5b0b2fa1-1982-4b79-a3a8-038958955ea6",
   "metadata": {},
   "outputs": [
    {
     "name": "stdout",
     "output_type": "stream",
     "text": [
      "Números pares:  [16, 6, 20, 44, 46, 24, 2, 40, 14, 16, 22, 2, 16, 50, 6, 18, 2, 44, 48, 16, 26, 4, 8, 36, 38, 38, 8, 10, 24, 38, 6, 40, 34, 12, 24, 40, 36, 10, 46, 48, 28, 26, 28, 36]\n",
      "quantidade de números pares:  44\n",
      "Números ímpares:  [27, 3, 23, 25, 43, 49, 1, 33, 15, 27, 25, 15, 37, 5, 3, 15, 13, 3, 7, 27, 31, 15, 41, 13, 35, 13, 35, 9, 47, 23, 11, 19, 13, 5, 1, 27, 19, 1, 49, 27, 37, 3, 37, 39, 41, 23, 41, 21, 43, 11, 23, 49, 49, 25, 39, 49]\n",
      "Quantidade de números ímpares:  56\n",
      "quanntidade de zeros:  0\n"
     ]
    }
   ],
   "source": [
    "#ordenar em \n",
    "\n",
    "vetor_par = []\n",
    "vetor_impar = []\n",
    "valor_o = []\n",
    "for i in range(0,len(vetor_set)):\n",
    "  if vetor_set[i]  % 2 == 0 :\n",
    "    vetor_par.append(vetor_set[i])\n",
    "  elif 0 < vetor_set[i] < 2 :\n",
    "    vetor_impar.append(vetor_set[i])\n",
    "  elif vetor_set[i] == 0 :\n",
    "    valor_o.append(vetor_set[i])\n",
    "  else:\n",
    "    vetor_impar.append(vetor_set[i])\n",
    "\n",
    "print(\"Números pares: \",vetor_par)\n",
    "print(\"quantidade de números pares: \",len(vetor_par))\n",
    "print(\"Números ímpares: \",vetor_impar)\n",
    "print(\"Quantidade de números ímpares: \",len(vetor_impar))\n",
    "print(\"quanntidade de zeros: \", len(valor_o))"
   ]
  },
  {
   "cell_type": "code",
   "execution_count": null,
   "id": "af6370ea-c494-4180-b8c4-eb12471eb506",
   "metadata": {},
   "outputs": [],
   "source": []
  }
 ],
 "metadata": {
  "kernelspec": {
   "display_name": "Python 3 (ipykernel)",
   "language": "python",
   "name": "python3"
  },
  "language_info": {
   "codemirror_mode": {
    "name": "ipython",
    "version": 3
   },
   "file_extension": ".py",
   "mimetype": "text/x-python",
   "name": "python",
   "nbconvert_exporter": "python",
   "pygments_lexer": "ipython3",
   "version": "3.8.3"
  }
 },
 "nbformat": 4,
 "nbformat_minor": 5
}
