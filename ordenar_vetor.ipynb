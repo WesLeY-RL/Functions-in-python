{
 "cells": [
  {
   "cell_type": "code",
   "execution_count": 24,
   "id": "e183ddc0-95b5-4447-8aef-a4f5dd5ce222",
   "metadata": {},
   "outputs": [],
   "source": [
    "# ordenar um vetor sem o comando sort()\n",
    "def ordenar(vetor):\n",
    "    for i in range(0,len(vetor)):\n",
    "      for j in range(i+1,len(vetor)):\n",
    "        if vetor[i] > vetor[j]:\n",
    "          temp1 = vetor[i]\n",
    "          vetor[i] = vetor[j]\n",
    "          vetor[j] = temp1\n",
    "    return vetor\n",
    "\n",
    "# basicamente essa função analisa cada iitem  com todos os elementos do vetor e troca de lugar"
   ]
  },
  {
   "cell_type": "code",
   "execution_count": 25,
   "id": "92bb8130-f3be-49ee-8078-fcaa068a42fc",
   "metadata": {},
   "outputs": [
    {
     "name": "stdout",
     "output_type": "stream",
     "text": [
      "[35, 17, 49, 12, 26, 6, 40, 33, 9, 15, 13, 4, 24, 28, 14, 28, 37, 28, 4, 28, 13, 34, 2, 26, 4, 20, 8, 11, 15, 24, 27, 31, 14, 27, 21, 50, 12, 44, 12, 16, 20, 39, 1, 26, 43, 32, 25, 42, 34, 42, 45, 38, 42, 43, 2, 5, 48, 20, 25, 2, 27, 41, 27, 10, 29, 44, 8, 46, 21, 15, 46, 45, 31, 14, 36, 49, 50, 40, 20, 15, 48, 19, 2, 45, 9, 19, 15, 8, 46, 20, 6, 24, 18, 40, 9, 44, 31, 23, 48, 22]\n"
     ]
    }
   ],
   "source": [
    "#criação de um vetor com números aleatórios\n",
    "\n",
    "vetor = []\n",
    "import random\n",
    "\n",
    "for i in range(0,100):\n",
    "  temp = random.randint(1,50)\n",
    "  vetor.append(temp)\n",
    "print(vetor)"
   ]
  },
  {
   "cell_type": "code",
   "execution_count": 26,
   "id": "7c67122a-ff43-4845-b454-8d2d8e3f71c7",
   "metadata": {},
   "outputs": [
    {
     "name": "stdout",
     "output_type": "stream",
     "text": [
      "[1, 2, 2, 2, 2, 4, 4, 4, 5, 6, 6, 8, 8, 8, 9, 9, 9, 10, 11, 12, 12, 12, 13, 13, 14, 14, 14, 15, 15, 15, 15, 15, 16, 17, 18, 19, 19, 20, 20, 20, 20, 20, 21, 21, 22, 23, 24, 24, 24, 25, 25, 26, 26, 26, 27, 27, 27, 27, 28, 28, 28, 28, 29, 31, 31, 31, 32, 33, 34, 34, 35, 36, 37, 38, 39, 40, 40, 40, 41, 42, 42, 42, 43, 43, 44, 44, 44, 45, 45, 45, 46, 46, 46, 48, 48, 48, 49, 49, 50, 50]\n"
     ]
    }
   ],
   "source": [
    "#com a função\n",
    "ordem = ordenar(vetor)\n",
    "print(ordem)"
   ]
  },
  {
   "cell_type": "code",
   "execution_count": 27,
   "id": "6f0f0448-437a-4003-84d3-3a41f9eb327f",
   "metadata": {},
   "outputs": [
    {
     "name": "stdout",
     "output_type": "stream",
     "text": [
      "[1, 2, 2, 2, 2, 4, 4, 4, 5, 6, 6, 8, 8, 8, 9, 9, 9, 10, 11, 12, 12, 12, 13, 13, 14, 14, 14, 15, 15, 15, 15, 15, 16, 17, 18, 19, 19, 20, 20, 20, 20, 20, 21, 21, 22, 23, 24, 24, 24, 25, 25, 26, 26, 26, 27, 27, 27, 27, 28, 28, 28, 28, 29, 31, 31, 31, 32, 33, 34, 34, 35, 36, 37, 38, 39, 40, 40, 40, 41, 42, 42, 42, 43, 43, 44, 44, 44, 45, 45, 45, 46, 46, 46, 48, 48, 48, 49, 49, 50, 50]\n"
     ]
    }
   ],
   "source": [
    "#com o sort()\n",
    "\n",
    "vetor.sort()\n",
    "print(vetor)"
   ]
  },
  {
   "cell_type": "code",
   "execution_count": 28,
   "id": "9b6aa387-ad9a-4d89-bd5b-7bfefbe75f79",
   "metadata": {},
   "outputs": [],
   "source": [
    "# função para ordenar em orde decrescente\n",
    "\n",
    "def ordenar_decre(vetor):\n",
    "    for i in range(0,len(vetor)):\n",
    "      for j in range(i+1,len(vetor)):\n",
    "        if vetor[i] < vetor[j]:\n",
    "          temp1 = vetor[i]\n",
    "          vetor[i] = vetor[j]\n",
    "          vetor[j] = temp1\n",
    "    return vetor"
   ]
  },
  {
   "cell_type": "code",
   "execution_count": 29,
   "id": "5e3818cf-e587-4676-9735-ec7040daaa2e",
   "metadata": {},
   "outputs": [
    {
     "name": "stdout",
     "output_type": "stream",
     "text": [
      "[50, 50, 49, 49, 48, 48, 48, 46, 46, 46, 45, 45, 45, 44, 44, 44, 43, 43, 42, 42, 42, 41, 40, 40, 40, 39, 38, 37, 36, 35, 34, 34, 33, 32, 31, 31, 31, 29, 28, 28, 28, 28, 27, 27, 27, 27, 26, 26, 26, 25, 25, 24, 24, 24, 23, 22, 21, 21, 20, 20, 20, 20, 20, 19, 19, 18, 17, 16, 15, 15, 15, 15, 15, 14, 14, 14, 13, 13, 12, 12, 12, 11, 10, 9, 9, 9, 8, 8, 8, 6, 6, 5, 4, 4, 4, 2, 2, 2, 2, 1]\n"
     ]
    }
   ],
   "source": [
    "#com a função\n",
    "ordem = ordenar_decre(vetor)\n",
    "print(ordem)"
   ]
  },
  {
   "cell_type": "code",
   "execution_count": 30,
   "id": "d750c758-30be-45de-9f87-50f8767616eb",
   "metadata": {},
   "outputs": [
    {
     "name": "stdout",
     "output_type": "stream",
     "text": [
      "[50, 50, 49, 49, 48, 48, 48, 46, 46, 46, 45, 45, 45, 44, 44, 44, 43, 43, 42, 42, 42, 41, 40, 40, 40, 39, 38, 37, 36, 35, 34, 34, 33, 32, 31, 31, 31, 29, 28, 28, 28, 28, 27, 27, 27, 27, 26, 26, 26, 25, 25, 24, 24, 24, 23, 22, 21, 21, 20, 20, 20, 20, 20, 19, 19, 18, 17, 16, 15, 15, 15, 15, 15, 14, 14, 14, 13, 13, 12, 12, 12, 11, 10, 9, 9, 9, 8, 8, 8, 6, 6, 5, 4, 4, 4, 2, 2, 2, 2, 1]\n"
     ]
    }
   ],
   "source": [
    "# agora com o sort()\n",
    "\n",
    "vetor.sort(reverse = True)\n",
    "print(vetor)"
   ]
  },
  {
   "cell_type": "code",
   "execution_count": null,
   "id": "1c734100-5f41-4ae9-936d-d8dbdc3867b6",
   "metadata": {},
   "outputs": [],
   "source": []
  },
  {
   "cell_type": "code",
   "execution_count": null,
   "id": "4f27f8d8-ca4b-411e-9c46-87dad11a965d",
   "metadata": {},
   "outputs": [],
   "source": []
  },
  {
   "cell_type": "code",
   "execution_count": null,
   "id": "3361ab96-8477-4723-9e9f-e3104d528330",
   "metadata": {},
   "outputs": [],
   "source": []
  }
 ],
 "metadata": {
  "kernelspec": {
   "display_name": "Python 3 (ipykernel)",
   "language": "python",
   "name": "python3"
  },
  "language_info": {
   "codemirror_mode": {
    "name": "ipython",
    "version": 3
   },
   "file_extension": ".py",
   "mimetype": "text/x-python",
   "name": "python",
   "nbconvert_exporter": "python",
   "pygments_lexer": "ipython3",
   "version": "3.8.3"
  }
 },
 "nbformat": 4,
 "nbformat_minor": 5
}
