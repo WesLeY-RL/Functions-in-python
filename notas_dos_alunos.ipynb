{
 "cells": [
  {
   "cell_type": "code",
   "execution_count": 1,
   "id": "e7cff043-e9f8-4d60-a5df-2021607dbc7c",
   "metadata": {},
   "outputs": [],
   "source": [
    "import numpy as np"
   ]
  },
  {
   "cell_type": "code",
   "execution_count": 2,
   "id": "5290273b-6e5e-4e44-9066-d6bdb0656f06",
   "metadata": {},
   "outputs": [],
   "source": [
    "lista = [1,2,3,4,5,6,7,8,9,10]\n"
   ]
  },
  {
   "cell_type": "code",
   "execution_count": 15,
   "id": "c8bdc721-d718-408c-94c7-57f61c1bf82f",
   "metadata": {},
   "outputs": [
    {
     "name": "stdout",
     "output_type": "stream",
     "text": [
      "[9, 2, 3, 4, 5, 6, 7, 8, 9, 10]\n"
     ]
    }
   ],
   "source": [
    "lista[0] = 9\n",
    "print(lista)"
   ]
  },
  {
   "cell_type": "code",
   "execution_count": 6,
   "id": "ad1aa382-3300-4fe3-b455-32e0e8634761",
   "metadata": {},
   "outputs": [],
   "source": [
    "array = np.array(lista)"
   ]
  },
  {
   "cell_type": "code",
   "execution_count": 8,
   "id": "ce32f2db-e91b-4999-b57f-45e66ef84aed",
   "metadata": {
    "scrolled": true
   },
   "outputs": [
    {
     "name": "stdout",
     "output_type": "stream",
     "text": [
      "<class 'list'>\n",
      "<class 'numpy.ndarray'>\n"
     ]
    }
   ],
   "source": [
    "print(type(lista))\n",
    "print(type(array))"
   ]
  },
  {
   "cell_type": "code",
   "execution_count": 14,
   "id": "9d45ce02-aedd-416f-a4f1-e11d01825b0a",
   "metadata": {},
   "outputs": [
    {
     "name": "stdout",
     "output_type": "stream",
     "text": [
      "[[0. 0. 0. 0.]\n",
      " [0. 0. 0. 0.]\n",
      " [0. 0. 0. 0.]\n",
      " [0. 0. 0. 0.]\n",
      " [0. 0. 0. 0.]\n",
      " [0. 0. 0. 0.]\n",
      " [0. 0. 0. 0.]\n",
      " [0. 0. 0. 0.]\n",
      " [0. 0. 0. 0.]\n",
      " [0. 0. 0. 0.]]\n"
     ]
    }
   ],
   "source": [
    "matriz_zero = np.zeros((10,4))\n",
    "print(matriz_zero)"
   ]
  },
  {
   "cell_type": "code",
   "execution_count": 23,
   "id": "4953b4f1-3f8a-4cfa-b599-4e22179c5831",
   "metadata": {},
   "outputs": [
    {
     "name": "stdin",
     "output_type": "stream",
     "text": [
      "Turma:  9 - B\n",
      "Quantidade de alunos:  5\n",
      "digite a nota 10\n",
      "digite a nota 9.5\n",
      "digite a nota 6.3\n",
      "digite a nota 2.4\n",
      "digite a nota 1\n"
     ]
    },
    {
     "name": "stdout",
     "output_type": "stream",
     "text": [
      "Turma:  9 - B\n",
      "Quantidade de Alunos:  4\n",
      "Nota Máxima:  10.0\n",
      "Nota Mínima:  1.0\n",
      "Desvio padrão:  3.6379114887528528\n",
      "Média da Turma:  5.84\n"
     ]
    }
   ],
   "source": [
    "# Notas dos Alunos\n",
    "Turma = input(str(\"Turma: \"))\n",
    "i = int(input(\"Quantidade de alunos: \"))\n",
    "notas = []\n",
    "for i in range(0,i):\n",
    "    n = float(input(\"digite a nota\"))\n",
    "    notas.append(n)\n",
    "                    \n",
    "notas_array = np.array(notas)\n",
    "print(\"Turma: \", Turma)\n",
    "print(\"Quantidade de Alunos: \",  i)\n",
    "print(\"Nota Máxima: \", notas_array.max())\n",
    "print(\"Nota Mínima: \", notas_array.min())\n",
    "print(\"Desvio padrão: \", notas_array.std())\n",
    "print(\"Média da Turma: \", notas_array.mean())\n",
    "\n"
   ]
  },
  {
   "cell_type": "code",
   "execution_count": null,
   "id": "c53ef5da-3575-4d21-8667-a2c5c7466fef",
   "metadata": {},
   "outputs": [],
   "source": []
  }
 ],
 "metadata": {
  "kernelspec": {
   "display_name": "Python 3 (ipykernel)",
   "language": "python",
   "name": "python3"
  },
  "language_info": {
   "codemirror_mode": {
    "name": "ipython",
    "version": 3
   },
   "file_extension": ".py",
   "mimetype": "text/x-python",
   "name": "python",
   "nbconvert_exporter": "python",
   "pygments_lexer": "ipython3",
   "version": "3.8.3"
  }
 },
 "nbformat": 4,
 "nbformat_minor": 5
}
