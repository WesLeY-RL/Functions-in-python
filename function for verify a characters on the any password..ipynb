{
 "cells": [
  {
   "cell_type": "code",
   "execution_count": 4,
   "id": "13e0d7e4-3750-445f-a085-a3b18e7b5b07",
   "metadata": {},
   "outputs": [],
   "source": [
    "def verificar_c(senha):\n",
    "    \n",
    "    caracters = \"!@#$%¨&*()_-=+´{}[]^^?/:;><.,\"\n",
    "    numbers = \"0123456789\"\n",
    "    count_c = 0\n",
    "    count_n = 0\n",
    "    \n",
    "    for char in senha: \n",
    "        if char in caracters: \n",
    "            count_c += 1\n",
    "        elif char in numbers:\n",
    "            count_n += 1\n",
    "    return(count_c,count_n)"
   ]
  },
  {
   "cell_type": "code",
   "execution_count": 5,
   "id": "895c74d5-d785-4e3a-900c-daa7e08164d1",
   "metadata": {},
   "outputs": [
    {
     "name": "stdout",
     "output_type": "stream",
     "text": [
      "(3, 5)\n"
     ]
    }
   ],
   "source": [
    "senha = \"12345wesley@tosken.:\"\n",
    "resultado = verificar_c(senha)\n",
    "print(resultado)"
   ]
  }
 ],
 "metadata": {
  "kernelspec": {
   "display_name": "Python 3 (ipykernel)",
   "language": "python",
   "name": "python3"
  },
  "language_info": {
   "codemirror_mode": {
    "name": "ipython",
    "version": 3
   },
   "file_extension": ".py",
   "mimetype": "text/x-python",
   "name": "python",
   "nbconvert_exporter": "python",
   "pygments_lexer": "ipython3",
   "version": "3.8.3"
  }
 },
 "nbformat": 4,
 "nbformat_minor": 5
}
